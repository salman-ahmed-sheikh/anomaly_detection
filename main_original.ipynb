{
 "cells": [
  {
   "cell_type": "code",
   "execution_count": 1,
   "metadata": {},
   "outputs": [],
   "source": [
    "import random\n",
    "import pandas as pd\n",
    "import numpy as np\n",
    "import generate\n",
    "import matplotlib.pyplot as plot"
   ]
  },
  {
   "cell_type": "code",
   "execution_count": 2,
   "metadata": {},
   "outputs": [],
   "source": [
    "# data split window size\n",
    "WindowSize = 10\n"
   ]
  },
  {
   "cell_type": "code",
   "execution_count": 10,
   "metadata": {},
   "outputs": [],
   "source": [
    "dt = pd.read_csv('nyc_taxi.csv')"
   ]
  },
  {
   "cell_type": "code",
   "execution_count": null,
   "metadata": {},
   "outputs": [],
   "source": []
  },
  {
   "cell_type": "code",
   "execution_count": null,
   "metadata": {},
   "outputs": [],
   "source": []
  },
  {
   "cell_type": "code",
   "execution_count": 3,
   "metadata": {},
   "outputs": [],
   "source": [
    "def sliding_window_data(inp, windowSize = 20):\n",
    "    out = []\n",
    "    for i in range(0,len(inp),windowSize):\n",
    "        tmp = inp[i:i+windowSize]\n",
    "        if len(tmp) == windowSize:\n",
    "            out.append(tmp)\n",
    "    return out\n",
    "def add_random_noise(inp):\n",
    "    pass\n",
    "def add_random_anomaly(inp, windowSize = 20, no_of_anomalies = 10):\n",
    "    # randomly generate anomaly with this size\n",
    "    mi = 1#int(windowSize / 2)\n",
    "    ma = WindowSize #int(WindowSize * 2)\n",
    "    inMi = (min(inp) + max(inp) )/ 2 \n",
    "    ret = [] # to keep record where we added anomaly    \n",
    "    l = len(inp) / no_of_anomalies\n",
    "    for i in range(no_of_anomalies):\n",
    "        sz = random.randrange(mi,ma) # randomly generate size of anomaly\n",
    "        #print(i*l)\n",
    "        #print((i+1) * l)\n",
    "        fr = random.randrange(int(i*l), int((i+1)*l))\n",
    "        sr = random.randrange(fr,fr + (2*sz))\n",
    "        ret.append((fr,sr))\n",
    "        inp[fr:sr] = [inMi + random.uniform(-0.2,0.2) for _ in range(fr,sr)]\n",
    "    return inp, ret\n",
    "\n",
    "    pass"
   ]
  },
  {
   "cell_type": "code",
   "execution_count": 57,
   "metadata": {},
   "outputs": [],
   "source": [
    "vals = list(dt['value'])\n",
    "data = sliding_window_data(vals,windowSize=WindowSize)"
   ]
  },
  {
   "cell_type": "code",
   "execution_count": 4,
   "metadata": {},
   "outputs": [],
   "source": [
    "vals = generate.generate(1000000)"
   ]
  },
  {
   "cell_type": "code",
   "execution_count": 5,
   "metadata": {},
   "outputs": [],
   "source": [
    "data = sliding_window_data(vals,windowSize=WindowSize)"
   ]
  },
  {
   "cell_type": "code",
   "execution_count": 117,
   "metadata": {},
   "outputs": [],
   "source": []
  },
  {
   "cell_type": "code",
   "execution_count": 6,
   "metadata": {},
   "outputs": [],
   "source": [
    "len(data)\n",
    "perc = int(len(data) * 0.8)"
   ]
  },
  {
   "cell_type": "code",
   "execution_count": 7,
   "metadata": {},
   "outputs": [],
   "source": [
    "train = np.array(data[:perc])\n",
    "test = np.array(data[perc:])"
   ]
  },
  {
   "cell_type": "code",
   "execution_count": 8,
   "metadata": {},
   "outputs": [
    {
     "name": "stderr",
     "output_type": "stream",
     "text": [
      "Using TensorFlow backend.\n"
     ]
    }
   ],
   "source": [
    "from keras.models import Model, load_model\n",
    "from keras.layers import Input, Dense, Dropout, LSTM\n",
    "from keras.callbacks import ModelCheckpoint, TensorBoard\n",
    "from keras import regularizers"
   ]
  },
  {
   "cell_type": "code",
   "execution_count": 9,
   "metadata": {},
   "outputs": [
    {
     "name": "stdout",
     "output_type": "stream",
     "text": [
      "10\n"
     ]
    }
   ],
   "source": [
    "input_dim = train.shape[1] #features\n",
    "encoding_dim = WindowSize - 2\n",
    "hidden_dim = int(encoding_dim / 2)\n",
    "print(input_dim)"
   ]
  },
  {
   "cell_type": "code",
   "execution_count": 10,
   "metadata": {},
   "outputs": [],
   "source": [
    "nb_epoch = 20\n",
    "batch_size = 32\n",
    "learning_rate = 0.001"
   ]
  },
  {
   "cell_type": "code",
   "execution_count": 11,
   "metadata": {},
   "outputs": [],
   "source": [
    "input_layer = Input(shape=(input_dim, ))\n",
    "\n",
    "encoder = Dense(encoding_dim, activation=\"tanh\", activity_regularizer=regularizers.l1(10e-5))(input_layer)\n",
    "encoder = Dense(hidden_dim, activation=\"relu\")(encoder)\n",
    "decoder = Dense(hidden_dim, activation='relu')(encoder)\n",
    "decoder = Dense(encoding_dim, activation='relu')(encoder)\n",
    "decoder = Dense(input_dim, activation='tanh')(decoder)\n",
    "\n",
    "autoencoder = Model(inputs=input_layer, outputs=decoder)"
   ]
  },
  {
   "cell_type": "code",
   "execution_count": 12,
   "metadata": {},
   "outputs": [
    {
     "name": "stdout",
     "output_type": "stream",
     "text": [
      "Model: \"model_1\"\n",
      "_________________________________________________________________\n",
      "Layer (type)                 Output Shape              Param #   \n",
      "=================================================================\n",
      "input_1 (InputLayer)         (None, 10)                0         \n",
      "_________________________________________________________________\n",
      "dense_1 (Dense)              (None, 8)                 88        \n",
      "_________________________________________________________________\n",
      "dense_2 (Dense)              (None, 4)                 36        \n",
      "_________________________________________________________________\n",
      "dense_4 (Dense)              (None, 8)                 40        \n",
      "_________________________________________________________________\n",
      "dense_5 (Dense)              (None, 10)                90        \n",
      "=================================================================\n",
      "Total params: 254\n",
      "Trainable params: 254\n",
      "Non-trainable params: 0\n",
      "_________________________________________________________________\n"
     ]
    }
   ],
   "source": [
    "autoencoder.summary()"
   ]
  },
  {
   "cell_type": "code",
   "execution_count": 13,
   "metadata": {},
   "outputs": [],
   "source": [
    "#compile\n",
    "autoencoder.compile(optimizer='adam', \n",
    "                    loss='mean_squared_error', \n",
    "                    metrics=['accuracy'])"
   ]
  },
  {
   "cell_type": "code",
   "execution_count": 14,
   "metadata": {},
   "outputs": [
    {
     "name": "stdout",
     "output_type": "stream",
     "text": [
      "Train on 28571 samples, validate on 7143 samples\n",
      "Epoch 1/20\n",
      "28571/28571 [==============================] - 1s 42us/step - loss: 0.5763 - accuracy: 0.0840 - val_loss: 0.3896 - val_accuracy: 0.1098\n",
      "Epoch 2/20\n",
      "28571/28571 [==============================] - 1s 32us/step - loss: 0.3279 - accuracy: 0.1145 - val_loss: 0.3179 - val_accuracy: 0.1098\n",
      "Epoch 3/20\n",
      "28571/28571 [==============================] - 1s 32us/step - loss: 0.3015 - accuracy: 0.2639 - val_loss: 0.2876 - val_accuracy: 0.4404\n",
      "Epoch 4/20\n",
      "28571/28571 [==============================] - 2s 66us/step - loss: 0.2861 - accuracy: 0.4829 - val_loss: 0.2850 - val_accuracy: 0.5232\n",
      "Epoch 5/20\n",
      "28571/28571 [==============================] - 1s 33us/step - loss: 0.2713 - accuracy: 0.5940 - val_loss: 0.2603 - val_accuracy: 0.5621\n",
      "Epoch 6/20\n",
      "28571/28571 [==============================] - 1s 51us/step - loss: 0.2595 - accuracy: 0.5366 - val_loss: 0.2589 - val_accuracy: 0.5208\n",
      "Epoch 7/20\n",
      "28571/28571 [==============================] - 1s 43us/step - loss: 0.2582 - accuracy: 0.5161 - val_loss: 0.2576 - val_accuracy: 0.5160\n",
      "Epoch 8/20\n",
      "28571/28571 [==============================] - 1s 41us/step - loss: 0.2572 - accuracy: 0.5030 - val_loss: 0.2567 - val_accuracy: 0.4851\n",
      "Epoch 9/20\n",
      "28571/28571 [==============================] - 1s 42us/step - loss: 0.2564 - accuracy: 0.4909 - val_loss: 0.2560 - val_accuracy: 0.4799\n",
      "Epoch 10/20\n",
      "28571/28571 [==============================] - 1s 42us/step - loss: 0.2556 - accuracy: 0.4872 - val_loss: 0.2554 - val_accuracy: 0.5009\n",
      "Epoch 11/20\n",
      "28571/28571 [==============================] - 1s 43us/step - loss: 0.2550 - accuracy: 0.5366 - val_loss: 0.2547 - val_accuracy: 0.5769\n",
      "Epoch 12/20\n",
      "28571/28571 [==============================] - 1s 44us/step - loss: 0.2544 - accuracy: 0.5941 - val_loss: 0.2545 - val_accuracy: 0.6184\n",
      "Epoch 13/20\n",
      "28571/28571 [==============================] - 1s 42us/step - loss: 0.2540 - accuracy: 0.6155 - val_loss: 0.2538 - val_accuracy: 0.5954\n",
      "Epoch 14/20\n",
      "28571/28571 [==============================] - 1s 37us/step - loss: 0.2536 - accuracy: 0.5805 - val_loss: 0.2535 - val_accuracy: 0.5859\n",
      "Epoch 15/20\n",
      "28571/28571 [==============================] - 1s 37us/step - loss: 0.2534 - accuracy: 0.5820 - val_loss: 0.2532 - val_accuracy: 0.5820\n",
      "Epoch 16/20\n",
      "28571/28571 [==============================] - 1s 36us/step - loss: 0.2531 - accuracy: 0.5811 - val_loss: 0.2533 - val_accuracy: 0.5813\n",
      "Epoch 17/20\n",
      "28571/28571 [==============================] - 1s 36us/step - loss: 0.2529 - accuracy: 0.5668 - val_loss: 0.2528 - val_accuracy: 0.5499\n",
      "Epoch 18/20\n",
      "28571/28571 [==============================] - 1s 40us/step - loss: 0.2527 - accuracy: 0.5498 - val_loss: 0.2528 - val_accuracy: 0.5538\n",
      "Epoch 19/20\n",
      "28571/28571 [==============================] - 1s 39us/step - loss: 0.2526 - accuracy: 0.5500 - val_loss: 0.2525 - val_accuracy: 0.5475\n",
      "Epoch 20/20\n",
      "28571/28571 [==============================] - 1s 37us/step - loss: 0.2525 - accuracy: 0.5336 - val_loss: 0.2524 - val_accuracy: 0.5288\n"
     ]
    }
   ],
   "source": [
    "history = autoencoder.fit(train, train,\n",
    "                    epochs=nb_epoch,\n",
    "                    batch_size=batch_size,\n",
    "                    shuffle=True,\n",
    "                    validation_data=(test, test),\n",
    "                    verbose=1).history"
   ]
  },
  {
   "cell_type": "code",
   "execution_count": 99,
   "metadata": {},
   "outputs": [],
   "source": [
    "autoencoder.save(\"model.h5\")"
   ]
  },
  {
   "cell_type": "code",
   "execution_count": 16,
   "metadata": {},
   "outputs": [
    {
     "data": {
      "text/plain": [
       "<matplotlib.legend.Legend at 0x1c9144c5cc8>"
      ]
     },
     "execution_count": 16,
     "metadata": {},
     "output_type": "execute_result"
    },
    {
     "data": {
      "image/png": "[encoded data removed]",
      "text/plain": [
       "<Figure size 432x288 with 1 Axes>"
      ]
     },
     "metadata": {
      "needs_background": "light"
     },
     "output_type": "display_data"
    }
   ],
   "source": [
    "plot.plot(history['loss'])\n",
    "plot.plot(history['val_loss'])\n",
    "plot.title('model loss')\n",
    "plot.ylabel('loss')\n",
    "plot.xlabel('epoch')\n",
    "plot.legend(['train', 'test'], loc='upper right')"
   ]
  },
  {
   "cell_type": "code",
   "execution_count": 17,
   "metadata": {},
   "outputs": [],
   "source": [
    "for_test = generate.generate(1000)\n",
    "\n",
    "for_test, locs = add_random_anomaly(for_test, WindowSize, 5)\n",
    "\n",
    "anomalyData = np.array(sliding_window_data(for_test,windowSize=WindowSize))"
   ]
  },
  {
   "cell_type": "code",
   "execution_count": 6,
   "metadata": {},
   "outputs": [],
   "source": [
    "autoencoder = load_model('model.h5')\n",
    "#print(f'Min Loss:{np.min(history[\"loss\"])}')"
   ]
  },
  {
   "cell_type": "code",
   "execution_count": 18,
   "metadata": {},
   "outputs": [
    {
     "data": {
      "text/plain": [
       "array([0.99994272, 0.01749011, 0.63346359, 1.84568955, 1.68190634,\n",
       "       0.40858519, 0.09738811, 1.25462506, 1.99750014, 1.11737399])"
      ]
     },
     "execution_count": 18,
     "metadata": {},
     "output_type": "execute_result"
    }
   ],
   "source": [
    "anomalyData[0]"
   ]
  },
  {
   "cell_type": "code",
   "execution_count": 19,
   "metadata": {},
   "outputs": [
    {
     "name": "stdout",
     "output_type": "stream",
     "text": [
      "MSE: 1.5272626675731384\n"
     ]
    }
   ],
   "source": [
    "predictions = autoencoder.predict(anomalyData)\n",
    "mse = np.mean(np.power(anomalyData - predictions, 2), axis=1)\n",
    "print('MSE:', np.quantile(mse, 0.9999)) # => the 9999% quatile - only 0.0001% have error score higher than that"
   ]
  },
  {
   "cell_type": "code",
   "execution_count": 20,
   "metadata": {},
   "outputs": [
    {
     "name": "stdout",
     "output_type": "stream",
     "text": [
      "[0.99994272 0.01749011 0.63346359 1.84568955 1.68190634 0.40858519\n",
      " 0.09738811 1.25462506 1.99750014 1.11737399] [0.90912724 0.02320302 0.7078213  0.99999994 0.99999565 0.36323735\n",
      " 0.08617979 0.9959504  0.9999623  0.9611289 ] 0.22825912396814302\n",
      "[0.04619007 0.52673813 1.77717835 1.76307544 0.50737447 0.05306986\n",
      " 1.13930397 1.99880077 1.23318024 0.08808803] [0.04327471 0.5694062  0.9997758  0.9999999  0.49577758 0.02417452\n",
      " 0.9711251  0.99999    0.98271704 0.08141348] 0.227812096662699\n",
      "[0.42656085 1.69791179 1.83368432 0.6129799  0.02185442 1.02205441\n",
      " 1.98627924 1.34575895 0.14260422 0.33431802] [ 0.43412355  0.9998922   0.9998088   0.65745234 -0.01125655  0.9523803\n",
      "  0.99999464  0.99801016  0.12571868  0.3191471 ] 0.2284767411554543\n",
      "[1.60898674 1.89275591 0.72394011 0.00417373 0.90449887 1.9601088\n",
      " 1.45355228 0.20898423 0.25128608 1.51163377] [0.99999297 0.9999548  0.8379165  0.00180068 0.89336836 0.99990976\n",
      " 0.9983245  0.22366913 0.24153267 0.99981743] 0.257256859536121\n",
      "[1.93947278e+00 8.38719633e-01 2.72466009e-04 7.88264075e-01\n",
      " 1.92065161e+00 1.55506856e+00 2.86309509e-01 1.78614041e-01\n",
      " 1.40720002e+00 1.97318845e+00] [0.9999996  0.8530273  0.08066056 0.7136038  0.9999975  0.99841315\n",
      " 0.35804576 0.18395905 0.99639034 0.9999945 ] 0.31733659197337794\n",
      "[0.95573016 0.01020461 0.67495849 1.86845367 1.64890303 0.37351002\n",
      " 0.11730752 1.29713066 1.99343637 1.0733525 ] [0.8933937  0.02360805 0.76602083 1.         0.99999315 0.34060624\n",
      " 0.11098088 0.99686474 0.9999574  0.952072  ] 0.22806454189451397\n",
      "[0.03383273 0.56615002 1.8042373  1.7337572  0.4693791  0.06821489\n",
      " 1.18294882 1.99993636 0.99050347 0.8447981 ] [ 1.          0.9967684  -0.37906176  0.32933548  0.9999723   0.99999183\n",
      "  0.34267437 -0.35565504  0.9670274   1.        ] 1.528735469830563\n",
      "[1.06327858 0.82140546 1.11668017 0.91591564 1.17893117 0.91862132\n",
      " 0.98029996 1.30393605 0.12068402 0.36796415] [ 1.          0.9999751   0.42043012 -0.50232315  0.9804963   0.9999991\n",
      "  0.96406454 -0.6506406  -0.24212132  0.9999998 ] 0.6929785747319798\n",
      "[1.64345778 1.87196833 0.68171479 0.00921022 0.94860292 1.97152421\n",
      " 1.41370645 0.18270534 0.28132923 1.54911949] [0.9999951  0.9999437  0.80577976 0.00377585 0.90891343 0.9999187\n",
      " 0.9975964  0.19730818 0.2698708  0.99987036] 0.2610652131142264\n",
      "[1.92341274 0.83546098 0.9416825  1.11916583 1.14748382 0.88388671\n",
      " 0.25603557 0.20463847 1.44718171 1.96207818] [ 1.          0.99999964  0.36804736 -0.7218675   0.99531007  1.\n",
      "  0.9858469  -0.8846959  -0.47006914  1.        ] 1.0955583352937635\n",
      "[0.91160406 0.00485476 0.71708895 1.88951923 1.61463054 0.33965997\n",
      " 0.13895311 1.33905505 1.98742962 1.02918744] [0.8749629  0.02309659 0.8142276  1.         0.9999887  0.31668952\n",
      " 0.13624914 0.9975726  0.9999517  0.94088787] 0.22801949764721616\n",
      "[0.02336482 0.60641029 1.82972329 1.70300384 0.43242135 0.0851821\n",
      " 1.22623575 1.99911625 1.14636613 0.05538875] [0.01188052 0.68275374 0.9998582  0.99999946 0.42669728 0.04562323\n",
      " 0.98602664 0.99998987 0.9748486  0.03627514] 0.22761866143015955\n",
      "[0.50117731 1.75844486 1.78164819 0.53303607 0.04406952 1.11028503\n",
      " 1.99697633 1.26151862 0.10048339 0.40284624] [0.50138116 0.99994665 0.9996653  0.584195   0.01230303 0.96957064\n",
      " 0.99999565 0.9961053  0.09732504 0.38241115] 0.22750859443924445\n",
      "[1.67667029 1.84947533 0.64011183 0.01618429 0.99280738 1.9810395\n",
      " 1.37305143 0.15802473 0.31277778 1.58553119] [0.99999684 0.9999294  0.7684603  0.00673263 0.92205113 0.99992573\n",
      " 0.99656254 0.17233242 0.29853445 0.9999068 ] 0.2648875940862565\n",
      "[1.90554666e+00 7.52166923e-01 1.91228584e-03 8.75428479e-01\n",
      " 1.95152627e+00 1.47942117e+00 2.27216501e-01 2.32218279e-01\n",
      " 1.48628873e+00 1.94908626e+00] [0.99999934 0.7842256  0.0725579  0.8705532  0.9999986  0.9974902\n",
      " 0.26639587 0.24077208 0.99798435 0.99999213] 0.31045495624472375\n",
      "[8.67650731e-01 1.45099990e-03 7.59772600e-01 1.90884505e+00\n",
      " 1.57915590e+00 3.07101240e-01 1.62282535e-01 1.38031623e+00\n",
      " 1.97949164e+00 9.84965192e-01] [0.85346186 0.02166564 0.8535295  1.         0.99998254 0.2915096\n",
      " 0.16189371 0.9981196  0.9999456  0.9271223 ] 0.22800152197290519\n",
      "[0.01480682 0.64744019 1.85358646 1.67087549 0.3965735  0.10393831\n",
      " 1.26908013 1.99634205 1.10248691 0.04179492] [-1.4504789e-04  7.3373145e-01  9.9988526e-01  9.9999917e-01\n",
      "  3.9196303e-01  6.2241551e-02  9.9038076e-01  9.9998981e-01\n",
      "  9.6945220e-01  1.7761357e-02] 0.2276977367113005\n",
      "[0.5399857  1.78651518 1.75331073 0.49439517 0.05799297 1.15411971\n",
      " 1.99940431 1.21858963 0.08204184 0.43889608] [0.5344728  0.99996203 0.9995503  0.54320586 0.02745846 0.9757203\n",
      " 0.9999959  0.9945174  0.08524542 0.4153061 ] 0.22715845608351876\n",
      "[1.70855932 1.82532089 0.59921259 0.02508231 1.0370258  1.98863604\n",
      " 1.33166671 0.13499066 0.34557021 1.62079765] [0.99999785 0.9999115  0.72559494 0.01066051 0.9331385  0.9999315\n",
      " 0.99510324 0.14886214 0.32738185 0.99993193] 0.26871421876624446\n",
      "[1.88590948 0.70957531 0.00566174 0.91941873 1.96418627 1.44015341\n",
      " 0.19990866 0.26129953 1.52444461 1.93423809] [0.9999993  0.74559104 0.05965966 0.92884225 0.9999988  0.9968617\n",
      " 0.20678398 0.27173007 0.9985399  0.9999902 ] 0.306485446256048\n",
      "[0.82395612 0.         0.80292595 1.92639331 1.54254849 0.2758975\n",
      " 0.18725018 1.42083352 1.96963794 0.94077223] [0.82850003 0.01931647 0.8851536  1.         0.9999722  0.26509804\n",
      " 0.18782285 0.9985417  0.9999385  0.91024965] 0.22794447182943248\n",
      "[0.00817545 0.68915948 1.87578016 1.637435   0.36190567 0.12444684\n",
      " 1.31139815 1.99161918 1.05840714 0.03007494] [-0.00967484  0.7797806   0.99990606  0.9999985   0.35744908  0.0827186\n",
      "  0.993415    0.99998915  0.9627556   0.00204298] 0.22781510488382528\n",
      "[0.57969362 1.81304719 1.7234999  0.45674298 0.0737586  1.19765287\n",
      " 1.99987762 1.17523303 0.06539544 0.47604316] [0.56689143 0.99997306 0.9993898  0.49939433 0.04481164 0.98063475\n",
      " 0.9999961  0.9922581  0.07463044 0.44868234] 0.22694195262666322\n",
      "[1.73906251 1.79955225 0.55909707 0.03588686 1.08117169 1.994299\n",
      " 1.28963324 0.11364818 0.37964241 1.6548499 ] [0.9999985  0.9998884  0.6769597  0.01555091 0.9424874  0.99993616\n",
      " 0.99305624 0.12700622 0.35627344 0.9999495 ] 0.2725550732494887\n",
      "[1.86453961 0.66755157 0.01135571 0.96356646 1.97496049 1.40002473\n",
      " 0.17416544 0.29182536 1.56157471 1.91756271] [0.9999989  0.70403725 0.05092106 0.96107775 0.9999993  0.9960574\n",
      " 0.15428096 0.30355364 0.99893254 0.9999874 ] 0.3023115944314611\n",
      "[7.80605694e-01 5.04595030e-04 8.46464604e-01 1.94212971e+00\n",
      " 1.50487990e+00 2.46109788e-01 2.13807214e-01 1.46052766e+00\n",
      " 1.95788781e+00 8.96694996e-01] [0.79968977 0.01605024 0.91032296 1.         0.99995667 0.23750015\n",
      " 0.21393953 0.99886733 0.9999306  0.88967854] 0.22781752370354053\n",
      "[0.00348368 0.73148657 1.89626098 1.60274775 0.32848565 0.14666759\n",
      " 1.35310706 1.98495689 1.01421304 0.02025174] [-0.01668781  0.82044965  0.99992186  0.9999971   0.32341236  0.10696465\n",
      "  0.9955131   0.9999885   0.9544423  -0.0108374 ] 0.2279230831123146\n",
      "[0.62022343 1.83798902 1.69227401 0.42015313 0.09133557 1.24079937\n",
      " 1.99839536 1.13153361 0.05057674 0.51421484] [0.59842384 0.99998057 0.999165   0.45290688 0.06430902 0.98455125\n",
      " 0.9999963  0.9890435  0.06551206 0.482261  ] 0.226894805700667\n",
      "[1.76812019 1.77221981 0.51984371 0.04857683 1.12515872 1.99801728\n",
      " 1.24703322 0.09403904 0.41492773 1.68762135] [0.9999989  0.99985904 0.62251866 0.02138965 0.950367   0.99994\n",
      " 0.9902071  0.10685735 0.38506594 0.999962  ] 0.27644342961881946\n",
      "[1.84147885 0.62617789 0.01898307 1.00778533 1.98382786 1.35911361\n",
      " 0.15003721 1.09121166 1.03257698 0.88918178] [ 0.9999998   0.88430434 -0.05098195  0.6709516   0.9999973   0.9993926\n",
      "  0.13071114  0.09457268  0.9952172   0.9999986 ] 0.2997728900763915\n",
      "[1.0869389  1.13986771 1.16279124 1.18939565 0.97170104 0.8959968\n",
      " 0.91377826 0.95892256 0.81093242 0.90737221] [ 0.9999343   0.9999933   0.9611951  -0.09020442  0.6833377   0.9998782\n",
      "  0.99988174  0.31835157 -0.08421229  0.9986947 ] 0.302646561571437\n",
      "[7.40696952e-04 7.74338690e-01 1.91498886e+00 1.56688160e+00\n",
      " 2.96378810e-01 1.70557098e-01 1.39412528e+00 1.97636819e+00\n",
      " 9.69991022e-01 1.23445273e-02] [-0.02116534  0.85560143  0.99993426  0.99999446  0.290107    0.13485871\n",
      "  0.99695426  0.9999877   0.94412524 -0.02084454] 0.22799173789538182\n",
      "[0.66149586 1.86129187 1.65969412 0.38469717 0.11068951 1.28347483\n",
      " 1.99496042 1.08757683 0.03761472 0.55333646] [0.6288797  0.9999862  0.99884796 0.40396237 0.08588332 0.9876662\n",
      " 0.9999964  0.984474   0.05791817 0.5157634 ] 0.22705257176212554\n",
      "[1.79567554 1.74337702 0.48152928 0.06312739 1.16890087 1.99978362\n",
      " 1.20394997 0.07620157 0.45135718 1.71904789] [0.99999917 0.9998214  0.5624583  0.02816123 0.957009   0.999943\n",
      " 0.98627496 0.08849277 0.413623   0.99997085] 0.2804356473687858\n",
      "[1.81677229 0.58553519 0.0285289  1.05198887 1.99077105 1.31750006\n",
      " 0.12757114 0.35696921 1.63246928 1.87886429] [0.9999978  0.6152416  0.04601153 0.9882082  0.99999946 0.9937026\n",
      " 0.07381637 0.36898524 0.99941176 0.99997836] 0.2935086045537701\n"
     ]
    }
   ],
   "source": [
    "for a,p,e in zip(anomalyData,predictions, mse):\n",
    "    print(a,p,e)\n",
    "#print(\"MSE\", np.mean(np.power(anomalyData - predictions, 2), axis=1))"
   ]
  },
  {
   "cell_type": "code",
   "execution_count": 25,
   "metadata": {},
   "outputs": [
    {
     "data": {
      "image/png": "[encoded data removed]",
      "text/plain": [
       "<Figure size 432x288 with 1 Axes>"
      ]
     },
     "metadata": {
      "needs_background": "light"
     },
     "output_type": "display_data"
    },
    {
     "data": {
      "text/plain": [
       "<Figure size 432x288 with 0 Axes>"
      ]
     },
     "metadata": {},
     "output_type": "display_data"
    }
   ],
   "source": [
    "time = [i for i in range(len(for_test))]\n",
    "# Plot a sine wave using time and amplitude obtained for the sine wave\n",
    "plot.plot(time, for_test)\n",
    "# Give a title for the sine wave plot\n",
    "plot.title('Sine wave')\n",
    "# Give x axis label for the sine wave plot\n",
    "plot.xlabel('Time')\n",
    "\n",
    "for ind, e in enumerate(mse):\n",
    "    if e > 0.4:\n",
    "        plot.axvspan(ind*WindowSize, (ind+1)*WindowSize, color='red', alpha=0.5)\n",
    "\n",
    "# Give y axis label for the sine wave plot\n",
    "plot.ylabel('Amplitude = sin(time)')\n",
    "plot.grid(True, which='both')\n",
    "plot.axhline(y=0, color='k')\n",
    "plot.show()\n",
    "plot.savefig(\"test.png\")"
   ]
  },
  {
   "cell_type": "code",
   "execution_count": null,
   "metadata": {},
   "outputs": [],
   "source": []
  }
 ],
 "metadata": {
  "kernelspec": {
   "display_name": "Python 3",
   "language": "python",
   "name": "python3"
  },
  "language_info": {
   "codemirror_mode": {
    "name": "ipython",
    "version": 3
   },
   "file_extension": ".py",
   "mimetype": "text/x-python",
   "name": "python",
   "nbconvert_exporter": "python",
   "pygments_lexer": "ipython3",
   "version": "3.7.6"
  }
 },
 "nbformat": 4,
 "nbformat_minor": 2
}
